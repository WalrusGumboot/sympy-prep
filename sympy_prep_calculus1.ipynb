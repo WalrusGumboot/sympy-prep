{
 "cells": [
  {
   "cell_type": "markdown",
   "id": "a2bd41af",
   "metadata": {},
   "source": [
    "# Calculus I - Sympy Preparation Januari 2024"
   ]
  },
  {
   "cell_type": "markdown",
   "id": "83dfa994",
   "metadata": {},
   "source": [
    "## Naam: Duwel"
   ]
  },
  {
   "cell_type": "markdown",
   "id": "b3ea124c",
   "metadata": {},
   "source": [
    "## Voornaam: Simeon"
   ]
  },
  {
   "cell_type": "markdown",
   "id": "20aaf704",
   "metadata": {},
   "source": [
    "## Studentennummer: r0978210"
   ]
  },
  {
   "cell_type": "markdown",
   "id": "b6faee74",
   "metadata": {},
   "source": [
    "### Algemene instructies\n",
    "1. Zorg ervoor dat je worksheet geen foutmeldingen geeft wanneer je deze herstart en volledig laat uitvoeren. Je kan dit nakijken door bovenaan op \"Kernel\" te klikken, en vervolgens \"Restart & Run All\".\n",
    "2. Deze worksheet mag **op papier** naar het examen meegenomen worden.\n",
    "\n",
    "**&copy; 2024 Didactisch Team Calculus I. Het kopiëren, reproduceren, aanpassen, vertalen, bewerken en/of wijzigen van één of meerdere examenvragen in dit document is verboden zonder voorafgaande toestemming van de auteur(s).**\n",
    "\n",
    "---"
   ]
  },
  {
   "cell_type": "markdown",
   "id": "42423713",
   "metadata": {},
   "source": [
    "### Imports en nuttige symbolen\n",
    "\n",
    "Voer onderstaand blok code uit om de nodige pakketten te importeren.\n"
   ]
  },
  {
   "cell_type": "code",
   "execution_count": 2,
   "id": "51e2905c",
   "metadata": {},
   "outputs": [],
   "source": [
    "import sympy as sp \n",
    "import numpy as np \n",
    "import matplotlib.pyplot as plt "
   ]
  },
  {
   "cell_type": "markdown",
   "id": "c6c136ec",
   "metadata": {},
   "source": [
    "#### Deze preparation sheet bestaat uit twee vragen met bijhorende deelvragen:\n",
    "\n",
    "Vraag 1: 4 deelvragen\n",
    "\n",
    "Vraag 2: 3 deelvragen"
   ]
  },
  {
   "cell_type": "markdown",
   "id": "e92c7aac",
   "metadata": {},
   "source": [
    "## Vraag 1"
   ]
  },
  {
   "cell_type": "markdown",
   "id": "47efe189",
   "metadata": {},
   "source": [
    "Gegeven volgende differentiaalvergelijking:\n",
    "\n",
    "$$ \\dfrac{\\mathrm{d}y}{\\mathrm{d}x} = e^{ax}\\sin bx$$\n",
    "\n",
    "met $a, b \\in \\mathbb{R}$. Los de volgende vragen op."
   ]
  },
  {
   "cell_type": "markdown",
   "id": "e311f974",
   "metadata": {},
   "source": [
    "#### Deelvraag a\n",
    "Definieer deze differentiaalvergelijking in `sympy` en geef de vergelijking weer."
   ]
  },
  {
   "cell_type": "code",
   "execution_count": 3,
   "id": "17113559",
   "metadata": {},
   "outputs": [
    {
     "data": {
      "text/latex": [
       "$\\displaystyle \\frac{d}{d x} f{\\left(x \\right)} = e^{a x} \\sin{\\left(b x \\right)}$"
      ],
      "text/plain": [
       "Eq(Derivative(f(x), x), exp(a*x)*sin(b*x))"
      ]
     },
     "execution_count": 3,
     "metadata": {},
     "output_type": "execute_result"
    }
   ],
   "source": [
    "a, b, x = sp.symbols(\"a b x\")\n",
    "f = sp.Function('f')\n",
    "\n",
    "difvgl = sp.Eq(sp.diff(f(x), x), sp.exp(a * x) * sp.sin(b * x))\n",
    "difvgl"
   ]
  },
  {
   "cell_type": "markdown",
   "id": "582936c4-ad48-42ff-8b92-f38754db6ddc",
   "metadata": {},
   "source": [
    "#### Deelvraag b\n",
    "Los deze differentiaalvergelijk op met `sympy` en geef de oplossing weer. Gebruik de beginvoorwaarde $y(0) = a.$"
   ]
  },
  {
   "cell_type": "code",
   "execution_count": 11,
   "id": "9b0811f0-5ce4-48a0-99a9-145b2b7cfcfe",
   "metadata": {},
   "outputs": [
    {
     "data": {
      "text/latex": [
       "$\\displaystyle f{\\left(x \\right)} = \\frac{a e^{a x} \\sin{\\left(b x \\right)}}{a^{2} + b^{2}} - \\frac{b e^{a x} \\cos{\\left(b x \\right)}}{a^{2} + b^{2}} + \\frac{a^{3} + a b^{2} + b}{a^{2} + b^{2}}$"
      ],
      "text/plain": [
       "Eq(f(x), a*exp(a*x)*sin(b*x)/(a**2 + b**2) - b*exp(a*x)*cos(b*x)/(a**2 + b**2) + (a**3 + a*b**2 + b)/(a**2 + b**2))"
      ]
     },
     "execution_count": 11,
     "metadata": {},
     "output_type": "execute_result"
    }
   ],
   "source": [
    "opl = sp.dsolve(difvgl, f(x), ics = {f(0): a})\n",
    "opl"
   ]
  },
  {
   "cell_type": "markdown",
   "id": "4d25d643-1f82-4597-aabe-3d4c669a93fb",
   "metadata": {},
   "source": [
    "#### Deelvraag c\n",
    "Bepaal de $x$-waarden van twee extrema punten van de functie $y(x)$ die aan de differentiaalvergelijking voldoet met behulp van `sympy` en geef de uitdrukking weer."
   ]
  },
  {
   "cell_type": "code",
   "execution_count": 25,
   "id": "9f1743ac-6b7c-4de5-bdd1-e13e91132b51",
   "metadata": {},
   "outputs": [
    {
     "data": {
      "text/plain": [
       "[0, pi/b]"
      ]
     },
     "execution_count": 25,
     "metadata": {},
     "output_type": "execute_result"
    }
   ],
   "source": [
    "afgeleide = sp.diff(opl.rhs, x)\n",
    "extrema = sp.solve(sp.Eq(afgeleide, 0), x)\n",
    "\n",
    "extrema"
   ]
  },
  {
   "cell_type": "markdown",
   "id": "4cef61ab",
   "metadata": {},
   "source": [
    "#### Deelvraag d\n",
    "Maak een plot met behulp van `matplotlib` en teken in één venster\n",
    "\n",
    "<ol>\n",
    "    <li> een lijnplot voor twee oplossingskrommen horende bij parameterwaarden $(a, b) = (0.5, 2)$ en  $(a, b) = (0.5, 4)$</li>\n",
    "    <li> een scatterplot dat de twee extremapunten (uit deelvraag c) van iedere oplossingskrommen aanduidt </li>\n",
    "</ol>\n",
    "\n",
    "Zorg ervoor dat het venster beperkt is tot $x \\in [0, 10]$ en $y\\in[-60, 30]$. Benoem de assen met de juiste labels \"$x$\" en \"$y$\". Maak ook een legende waarbij je de krommen benoemt op basis van hun corresponderende $b$-waarden. Gebruik de volgende functionaliteiten om de code overzichtelijk te houden:\n",
    "\n",
    "<ul>\n",
    "    <li> lambdify om de analytische uitdrukkingen van sympy numerisch te benaderen</li>\n",
    "    <li> subs om de constanten $a$ en $b$ te substitueren in de oplossing</li>\n",
    "    <li> twee for-loops om over de constante $b$ en de extremapunten te itereren.</li>\n",
    "</ol>\n",
    "\n",
    "**Opmerking**: Werk verder met de analytische uitdrukkingen die je in de voorgaande deelvragen hebt afgeleidt."
   ]
  },
  {
   "cell_type": "code",
   "execution_count": 34,
   "id": "a1e4363a",
   "metadata": {},
   "outputs": [
    {
     "data": {
      "image/png": "[encoded data removed]",
      "text/plain": [
       "<Figure size 600x600 with 1 Axes>"
      ]
     },
     "metadata": {},
     "output_type": "display_data"
    }
   ],
   "source": [
    "fig    = plt.figure(figsize=(6, 6))\n",
    "ax     = fig.add_subplot()\n",
    "\n",
    "xx     = np.linspace(-0., 10., 1000)\n",
    "# ------- Vul verder aan ------- \n",
    "\n",
    "\n",
    "ax.set_xlim([0, 10])\n",
    "ax.set_ylim([-60, 30])\n",
    "ax.set_xlabel(\"x\")\n",
    "ax.set_ylabel(\"y\")\n",
    "\n",
    "for b_waarde in [2, 4]:\n",
    "    kromme =  opl.rhs.subs(a, 0.5).subs(b, b_waarde)\n",
    "    y_waarden = sp.lambdify(x, kromme, \"numpy\")(xx)\n",
    "    ax.plot(xx, y_waarden, label = f\"b = {b_waarde}\")\n",
    "\n",
    "    for extremum in extrema:\n",
    "        x_waarde = extremum.subs(b, b_waarde)\n",
    "        y_waarde = kromme.subs(x, x_waarde)\n",
    "        ax.plot(x_waarde, y_waarde, 'o')\n",
    "\n",
    "ax.legend()\n",
    "\n",
    "plt.show()"
   ]
  },
  {
   "cell_type": "markdown",
   "id": "aa8e6949",
   "metadata": {},
   "source": [
    "## Vraag 2"
   ]
  },
  {
   "cell_type": "markdown",
   "id": "103034b3",
   "metadata": {},
   "source": [
    "Gegeven de volgende integraal \n",
    "\n",
    "$$ I = \\int_0^\\pi \\sin x \\, \\mathrm{d}x$$\n",
    "\n",
    "We benaderen deze integraal als een (eindige) Riemann som:\n",
    "\n",
    "$$ I \\approx I_N = \\sum_{i=0}^N \\sin x_i \\, \\Delta x$$\n",
    "\n",
    "met $N \\in \\mathbb{N}_0$, $x_i = i\\pi/N$ en $\\Delta x = \\pi/N$. Los de volgende vragen op."
   ]
  },
  {
   "cell_type": "markdown",
   "id": "5c29749e",
   "metadata": {},
   "source": [
    "#### Deelvraag a\n",
    "Definieer een Pythonfunctie die als argument het getal $N$ aanneemt en de corresponderende waarde $I_N$ teruggeeft. Gebruik de volgende functionaliteiten van `numpy` om de Riemann som te berekenen:\n",
    "\n",
    "<ol>\n",
    "    <li> sum </li>\n",
    "    <li> arange </li>\n",
    "</ol>\n",
    "\n",
    "**Opmerking**: Houd de code  overzichtelijk."
   ]
  },
  {
   "cell_type": "code",
   "execution_count": 14,
   "id": "3dbbafa4",
   "metadata": {},
   "outputs": [],
   "source": [
    "def benader(N: int) -> float:\n",
    "    i = np.arange(0, N + 1, 1)\n",
    "    \n",
    "    x_i = (i * np.pi) / N\n",
    "    delta_x = np.pi / N\n",
    "\n",
    "    return np.sum(np.sin(x_i) * delta_x, dtype=float)\n",
    "\n",
    "# Bemerk dat dit hetzelfde resultaat geeft als \n",
    "# sp.N(sp.Integral(sp.sin(x), (x, 0, sp.pi)).as_sum(i, 'left'))"
   ]
  },
  {
   "cell_type": "markdown",
   "id": "8405d257",
   "metadata": {},
   "source": [
    "#### Deelvraag b\n",
    "Gebruik je gedefinieerde functie van vraagstuk 2.a om de Riemannsom $I_N$ te bepalen voor $N = 10^2, 10^3, ..., 10^7.$ Toon alle resultaten."
   ]
  },
  {
   "cell_type": "code",
   "execution_count": 18,
   "id": "0becef83",
   "metadata": {},
   "outputs": [
    {
     "name": "stdout",
     "output_type": "stream",
     "text": [
      "Voor 10^2 is de benadering 1.9998355038874436\n",
      "Voor 10^3 is de benadering 1.9999983550656626\n",
      "Voor 10^4 is de benadering 1.9999999835506592\n",
      "Voor 10^5 is de benadering 1.9999999998355067\n",
      "Voor 10^6 is de benadering 1.9999999999983553\n",
      "Voor 10^7 is de benadering 1.9999999999999838\n"
     ]
    }
   ],
   "source": [
    "for exponent in range(2, 8):\n",
    "    print(f\"Voor 10^{exponent} is de benadering {benader(10**exponent)}\")"
   ]
  },
  {
   "cell_type": "markdown",
   "id": "f0909356-148f-4c37-b80f-6415f0c16d3c",
   "metadata": {},
   "source": [
    "#### Deelvraag c\n",
    "Maak een scatterplot  met het pakket `matplotlib` voor de error $E(N) = \\vert I - I_N \\vert$ met $I$ de analytische uitkomst van bovenstaande integraal. Maak een log-log plot en beperk de plot tussen $x\\in[10^1, 10^8]$ en $y\\in[10^{-15}, 10^{-2}]$. Vergeet je assen niet te benoemen.\n",
    "\n",
    "**Opmerking**: Houd de code overzichtelijk."
   ]
  },
  {
   "cell_type": "code",
   "execution_count": 19,
   "id": "9e70dd74-4b2f-478d-b462-126b198542bb",
   "metadata": {},
   "outputs": [],
   "source": [
    "x = sp.symbols('x')\n",
    "eigenlijke_waarde = sp.integrate(sp.sin(x), (x, 0, sp.pi))\n",
    "\n",
    "def fout(N: float) -> float:\n",
    "    return abs(eigenlijke_waarde - benader(N))\n",
    "\n",
    "invoeren = np.logspace(1, 8, 1000, base = 10)\n",
    "uitvoeren = [fout(x) for x in invoeren]"
   ]
  },
  {
   "cell_type": "code",
   "execution_count": 20,
   "id": "62d4c26a",
   "metadata": {},
   "outputs": [
    {
     "data": {
      "image/png": "[encoded data removed]",
      "text/plain": [
       "<Figure size 600x600 with 1 Axes>"
      ]
     },
     "metadata": {},
     "output_type": "display_data"
    }
   ],
   "source": [
    "fig = plt.figure(figsize=(6, 6))\n",
    "ax  = fig.add_subplot()\n",
    "\n",
    "ax.set_xscale('log')\n",
    "ax.set_yscale('log')\n",
    "ax.set_xlim([10, 10**8])\n",
    "ax.set_ylim([10**-15, 10**-2])\n",
    "ax.set_xlabel('n')\n",
    "ax.set_ylabel('E(n)')\n",
    "\n",
    "ax.plot(invoeren, uitvoeren, 'o', label=\"E(n)\")\n",
    "\n",
    "ax.legend()\n",
    "\n",
    "plt.show()"
   ]
  }
 ],
 "metadata": {
  "kernelspec": {
   "display_name": "Python 3 (ipykernel)",
   "language": "python",
   "name": "python3"
  },
  "language_info": {
   "codemirror_mode": {
    "name": "ipython",
    "version": 3
   },
   "file_extension": ".py",
   "mimetype": "text/x-python",
   "name": "python",
   "nbconvert_exporter": "python",
   "pygments_lexer": "ipython3",
   "version": "3.11.6"
  }
 },
 "nbformat": 4,
 "nbformat_minor": 5
}
